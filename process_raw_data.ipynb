{
 "cells": [
  {
   "cell_type": "code",
   "execution_count": 69,
   "metadata": {
    "collapsed": true,
    "ExecuteTime": {
     "end_time": "2023-09-16T12:21:05.113546800Z",
     "start_time": "2023-09-16T12:21:05.111540900Z"
    }
   },
   "outputs": [],
   "source": [
    "import pandas as pd"
   ]
  },
  {
   "cell_type": "markdown",
   "source": [
    "## 1. Convert JSON to Pandas DataFrame"
   ],
   "metadata": {
    "collapsed": false
   }
  },
  {
   "cell_type": "code",
   "execution_count": 70,
   "outputs": [],
   "source": [
    "def convert_to_pandas_df(file_name: str) -> pd.DataFrame:\n",
    "    df = {}\n",
    "    i = 0\n",
    "    with open(file_name, \"r\") as f:\n",
    "        for row in f:\n",
    "            df[i] = eval(row)\n",
    "            i += 1\n",
    "\n",
    "    return pd.DataFrame.from_dict(df, orient=\"index\")"
   ],
   "metadata": {
    "collapsed": false,
    "ExecuteTime": {
     "end_time": "2023-09-16T12:21:05.980904800Z",
     "start_time": "2023-09-16T12:21:05.968902900Z"
    }
   }
  },
  {
   "cell_type": "code",
   "execution_count": 71,
   "outputs": [
    {
     "data": {
      "text/plain": "              asin                                              imUrl  \\\n0       0132793040  http://ecx.images-amazon.com/images/I/31JIPhp%...   \n1       0321732944  http://ecx.images-amazon.com/images/I/31uogm6Y...   \n2       0439886341  http://ecx.images-amazon.com/images/I/51k0qa8f...   \n3       0511189877  http://ecx.images-amazon.com/images/I/41HaAhbv...   \n4       0528881469  http://ecx.images-amazon.com/images/I/51FnRkJq...   \n...            ...                                                ...   \n498191  BT008V9J9U  http://ecx.images-amazon.com/images/I/313e6SJm...   \n498192  BT008SXQ4C  http://ecx.images-amazon.com/images/I/31oF9oNv...   \n498193  BT008G3W52  http://ecx.images-amazon.com/images/I/21WIrX5f...   \n498194  BT008UKTMW  http://ecx.images-amazon.com/images/I/41TNAVmf...   \n498195  BT008T2BGK  http://ecx.images-amazon.com/images/I/41x-15rR...   \n\n                                              description  \\\n0       The Kelby Training DVD Mastering Blend Modes i...   \n1                                                     NaN   \n2                         Digital Organizer and Messenger   \n3       The CLIKR-5 UR5U-8780L remote control is desig...   \n4       Like its award-winning predecessor, the Intell...   \n...                                                   ...   \n498191  Vehicle suction cup mount (replacement) NOTICE...   \n498192  Quatech - 1 Port PCMCIA to DB-25 Parallel Adap...   \n498193               C2G - 5m Ultma USB 2.0 A Mini B Cble   \n498194                                   Keyboard drawer.   \n498195  Garmin USB to R232 Converter CableUSB to RS232...   \n\n                                               categories  \\\n0       [[Electronics, Computers & Accessories, Cables...   \n1       [[Electronics, Computers & Accessories, Cables...   \n2       [[Electronics, Computers & Accessories, PDAs, ...   \n3       [[Electronics, Accessories & Supplies, Audio &...   \n4       [[Electronics, GPS & Navigation, Vehicle GPS, ...   \n...                                                   ...   \n498191  [[Electronics, GPS & Navigation, GPS System Ac...   \n498192  [[Electronics, Computers & Accessories, Cables...   \n498193  [[Electronics, Computers & Accessories, Cables...   \n498194  [[Electronics, Computers & Accessories, Cables...   \n498195  [[Electronics, Computers & Accessories, Cables...   \n\n                                                    title   price  \\\n0       Kelby Training DVD: Mastering Blend Modes in A...     NaN   \n1       Kelby Training DVD: Adobe Photoshop CS5 Crash ...     NaN   \n2                         Digital Organizer and Messenger    8.15   \n3       CLIKR-5 Time Warner Cable Remote Control UR5U-...   23.36   \n4       Rand McNally 528881469 7-inch Intelliroute TND...  299.99   \n...                                                   ...     ...   \n498191                                  Suction Cup Mount   21.99   \n498192                     Parallel PCMCIA Card 1PORT Epp   23.99   \n498193         C2G / Cables to Go 5M Ultima USB 2.0 Cable   18.91   \n498194                          Underdesk Keyboard Drawer   25.54   \n498195                        USB To R232 Converter Cable   62.31   \n\n                      salesRank  \\\n0                           NaN   \n1                           NaN   \n2       {'Electronics': 144944}   \n3                           NaN   \n4                           NaN   \n...                         ...   \n498191                      NaN   \n498192                      NaN   \n498193                      NaN   \n498194                      NaN   \n498195                      NaN   \n\n                                                  related     brand  \n0                                                     NaN       NaN  \n1                                                     NaN       NaN  \n2       {'also_viewed': ['0545016266', 'B009ECM8QY', '...       NaN  \n3       {'also_viewed': ['B001KC08A4', 'B00KUL8O0W', '...       NaN  \n4       {'also_viewed': ['B006ZOI9OY', 'B00C7FKT2A', '...       NaN  \n...                                                   ...       ...  \n498191              {'buy_after_viewing': ['B000EPFCC2']}    Garmin  \n498192  {'also_bought': ['B000SR2H4W', 'B001Q7X0W6'], ...       NaN  \n498193  {'bought_together': ['B0002D6QJO'], 'buy_after...       C2G  \n498194  {'also_viewed': ['B0002LD0ZY', 'B0002LCZP0', '...  Fellowes  \n498195  {'also_viewed': ['B0007T27H8', 'B00425S1H8', '...    Garmin  \n\n[498196 rows x 9 columns]",
      "text/html": "<div>\n<style scoped>\n    .dataframe tbody tr th:only-of-type {\n        vertical-align: middle;\n    }\n\n    .dataframe tbody tr th {\n        vertical-align: top;\n    }\n\n    .dataframe thead th {\n        text-align: right;\n    }\n</style>\n<table border=\"1\" class=\"dataframe\">\n  <thead>\n    <tr style=\"text-align: right;\">\n      <th></th>\n      <th>asin</th>\n      <th>imUrl</th>\n      <th>description</th>\n      <th>categories</th>\n      <th>title</th>\n      <th>price</th>\n      <th>salesRank</th>\n      <th>related</th>\n      <th>brand</th>\n    </tr>\n  </thead>\n  <tbody>\n    <tr>\n      <th>0</th>\n      <td>0132793040</td>\n      <td>http://ecx.images-amazon.com/images/I/31JIPhp%...</td>\n      <td>The Kelby Training DVD Mastering Blend Modes i...</td>\n      <td>[[Electronics, Computers &amp; Accessories, Cables...</td>\n      <td>Kelby Training DVD: Mastering Blend Modes in A...</td>\n      <td>NaN</td>\n      <td>NaN</td>\n      <td>NaN</td>\n      <td>NaN</td>\n    </tr>\n    <tr>\n      <th>1</th>\n      <td>0321732944</td>\n      <td>http://ecx.images-amazon.com/images/I/31uogm6Y...</td>\n      <td>NaN</td>\n      <td>[[Electronics, Computers &amp; Accessories, Cables...</td>\n      <td>Kelby Training DVD: Adobe Photoshop CS5 Crash ...</td>\n      <td>NaN</td>\n      <td>NaN</td>\n      <td>NaN</td>\n      <td>NaN</td>\n    </tr>\n    <tr>\n      <th>2</th>\n      <td>0439886341</td>\n      <td>http://ecx.images-amazon.com/images/I/51k0qa8f...</td>\n      <td>Digital Organizer and Messenger</td>\n      <td>[[Electronics, Computers &amp; Accessories, PDAs, ...</td>\n      <td>Digital Organizer and Messenger</td>\n      <td>8.15</td>\n      <td>{'Electronics': 144944}</td>\n      <td>{'also_viewed': ['0545016266', 'B009ECM8QY', '...</td>\n      <td>NaN</td>\n    </tr>\n    <tr>\n      <th>3</th>\n      <td>0511189877</td>\n      <td>http://ecx.images-amazon.com/images/I/41HaAhbv...</td>\n      <td>The CLIKR-5 UR5U-8780L remote control is desig...</td>\n      <td>[[Electronics, Accessories &amp; Supplies, Audio &amp;...</td>\n      <td>CLIKR-5 Time Warner Cable Remote Control UR5U-...</td>\n      <td>23.36</td>\n      <td>NaN</td>\n      <td>{'also_viewed': ['B001KC08A4', 'B00KUL8O0W', '...</td>\n      <td>NaN</td>\n    </tr>\n    <tr>\n      <th>4</th>\n      <td>0528881469</td>\n      <td>http://ecx.images-amazon.com/images/I/51FnRkJq...</td>\n      <td>Like its award-winning predecessor, the Intell...</td>\n      <td>[[Electronics, GPS &amp; Navigation, Vehicle GPS, ...</td>\n      <td>Rand McNally 528881469 7-inch Intelliroute TND...</td>\n      <td>299.99</td>\n      <td>NaN</td>\n      <td>{'also_viewed': ['B006ZOI9OY', 'B00C7FKT2A', '...</td>\n      <td>NaN</td>\n    </tr>\n    <tr>\n      <th>...</th>\n      <td>...</td>\n      <td>...</td>\n      <td>...</td>\n      <td>...</td>\n      <td>...</td>\n      <td>...</td>\n      <td>...</td>\n      <td>...</td>\n      <td>...</td>\n    </tr>\n    <tr>\n      <th>498191</th>\n      <td>BT008V9J9U</td>\n      <td>http://ecx.images-amazon.com/images/I/313e6SJm...</td>\n      <td>Vehicle suction cup mount (replacement) NOTICE...</td>\n      <td>[[Electronics, GPS &amp; Navigation, GPS System Ac...</td>\n      <td>Suction Cup Mount</td>\n      <td>21.99</td>\n      <td>NaN</td>\n      <td>{'buy_after_viewing': ['B000EPFCC2']}</td>\n      <td>Garmin</td>\n    </tr>\n    <tr>\n      <th>498192</th>\n      <td>BT008SXQ4C</td>\n      <td>http://ecx.images-amazon.com/images/I/31oF9oNv...</td>\n      <td>Quatech - 1 Port PCMCIA to DB-25 Parallel Adap...</td>\n      <td>[[Electronics, Computers &amp; Accessories, Cables...</td>\n      <td>Parallel PCMCIA Card 1PORT Epp</td>\n      <td>23.99</td>\n      <td>NaN</td>\n      <td>{'also_bought': ['B000SR2H4W', 'B001Q7X0W6'], ...</td>\n      <td>NaN</td>\n    </tr>\n    <tr>\n      <th>498193</th>\n      <td>BT008G3W52</td>\n      <td>http://ecx.images-amazon.com/images/I/21WIrX5f...</td>\n      <td>C2G - 5m Ultma USB 2.0 A Mini B Cble</td>\n      <td>[[Electronics, Computers &amp; Accessories, Cables...</td>\n      <td>C2G / Cables to Go 5M Ultima USB 2.0 Cable</td>\n      <td>18.91</td>\n      <td>NaN</td>\n      <td>{'bought_together': ['B0002D6QJO'], 'buy_after...</td>\n      <td>C2G</td>\n    </tr>\n    <tr>\n      <th>498194</th>\n      <td>BT008UKTMW</td>\n      <td>http://ecx.images-amazon.com/images/I/41TNAVmf...</td>\n      <td>Keyboard drawer.</td>\n      <td>[[Electronics, Computers &amp; Accessories, Cables...</td>\n      <td>Underdesk Keyboard Drawer</td>\n      <td>25.54</td>\n      <td>NaN</td>\n      <td>{'also_viewed': ['B0002LD0ZY', 'B0002LCZP0', '...</td>\n      <td>Fellowes</td>\n    </tr>\n    <tr>\n      <th>498195</th>\n      <td>BT008T2BGK</td>\n      <td>http://ecx.images-amazon.com/images/I/41x-15rR...</td>\n      <td>Garmin USB to R232 Converter CableUSB to RS232...</td>\n      <td>[[Electronics, Computers &amp; Accessories, Cables...</td>\n      <td>USB To R232 Converter Cable</td>\n      <td>62.31</td>\n      <td>NaN</td>\n      <td>{'also_viewed': ['B0007T27H8', 'B00425S1H8', '...</td>\n      <td>Garmin</td>\n    </tr>\n  </tbody>\n</table>\n<p>498196 rows × 9 columns</p>\n</div>"
     },
     "execution_count": 71,
     "metadata": {},
     "output_type": "execute_result"
    }
   ],
   "source": [
    "meta_df = convert_to_pandas_df(\"raw_data/meta_Electronics.json\")\n",
    "meta_df"
   ],
   "metadata": {
    "collapsed": false,
    "ExecuteTime": {
     "end_time": "2023-09-16T12:21:34.434967600Z",
     "start_time": "2023-09-16T12:21:06.522250300Z"
    }
   }
  },
  {
   "cell_type": "code",
   "execution_count": 72,
   "outputs": [
    {
     "data": {
      "text/plain": "             reviewerID        asin                     reviewerName  \\\n0         AO94DHGC771SJ  0528881469                          amazdnu   \n1         AMO214LNFCEI4  0528881469                  Amazon Customer   \n2        A3N7T0DY83Y4IG  0528881469                    C. A. Freeman   \n3        A1H8PY3QHMQQA0  0528881469         Dave M. Shaw \"mack dave\"   \n4        A24EV6RXELQZ63  0528881469                      Wayne Smith   \n...                 ...         ...                              ...   \n1689183  A34BZM6S9L7QI4  B00LGQ6HL8      Candy Cane \"Is it just me?\"   \n1689184  A1G650TTTHEAL5  B00LGQ6HL8  Charles Spanky \"Zumina Reviews\"   \n1689185  A25C2M3QF9G7OQ  B00LGQ6HL8                           Comdet   \n1689186   A1E1LEVQ9VQNK  B00LGQ6HL8                      J. Chambers   \n1689187  A2NYK9KWFMJV4Y  B00LGQ6HL8      Mike Tarrani \"Jazz Drummer\"   \n\n          helpful                                         reviewText  overall  \\\n0          [0, 0]  We got this GPS for my husband who is an (OTR)...      5.0   \n1        [12, 15]  I'm a professional OTR truck driver, and I bou...      1.0   \n2        [43, 45]  Well, what can I say.  I've had this unit in m...      3.0   \n3         [9, 10]  Not going to write a long review, even thought...      2.0   \n4          [0, 0]  I've had mine for a year and here's what we go...      1.0   \n...           ...                                                ...      ...   \n1689183    [1, 1]  Burned these in before listening to them for a...      5.0   \n1689184    [0, 0]  Some people like DJ style headphones or earbud...      5.0   \n1689185    [0, 0]  I&#8217;m a big fan of the Brainwavz S1 (actua...      5.0   \n1689186    [0, 0]  I've used theBrainwavz S1 In Ear Headphones, a...      5.0   \n1689187    [0, 0]  Normally when I receive a review sample I can ...      5.0   \n\n                                                   summary  unixReviewTime  \\\n0                                          Gotta have GPS!      1370131200   \n1                                        Very Disappointed      1290643200   \n2                                           1st impression      1283990400   \n3                                  Great grafics, POOR GPS      1290556800   \n4                   Major issues, only excuses for support      1317254400   \n...                                                    ...             ...   \n1689183                Boom -- Pop -- Pow.  These deliver.      1405555200   \n1689184  Thin and light, without compromising on sound ...      1405382400   \n1689185  Same form factor and durability as the S1 with...      1405555200   \n1689186  Superb audio quality in a very comfortable set...      1405641600   \n1689187                                  Exceptional sound      1405209600   \n\n          reviewTime  \n0         06 2, 2013  \n1        11 25, 2010  \n2         09 9, 2010  \n3        11 24, 2010  \n4        09 29, 2011  \n...              ...  \n1689183  07 17, 2014  \n1689184  07 15, 2014  \n1689185  07 17, 2014  \n1689186  07 18, 2014  \n1689187  07 13, 2014  \n\n[1689188 rows x 9 columns]",
      "text/html": "<div>\n<style scoped>\n    .dataframe tbody tr th:only-of-type {\n        vertical-align: middle;\n    }\n\n    .dataframe tbody tr th {\n        vertical-align: top;\n    }\n\n    .dataframe thead th {\n        text-align: right;\n    }\n</style>\n<table border=\"1\" class=\"dataframe\">\n  <thead>\n    <tr style=\"text-align: right;\">\n      <th></th>\n      <th>reviewerID</th>\n      <th>asin</th>\n      <th>reviewerName</th>\n      <th>helpful</th>\n      <th>reviewText</th>\n      <th>overall</th>\n      <th>summary</th>\n      <th>unixReviewTime</th>\n      <th>reviewTime</th>\n    </tr>\n  </thead>\n  <tbody>\n    <tr>\n      <th>0</th>\n      <td>AO94DHGC771SJ</td>\n      <td>0528881469</td>\n      <td>amazdnu</td>\n      <td>[0, 0]</td>\n      <td>We got this GPS for my husband who is an (OTR)...</td>\n      <td>5.0</td>\n      <td>Gotta have GPS!</td>\n      <td>1370131200</td>\n      <td>06 2, 2013</td>\n    </tr>\n    <tr>\n      <th>1</th>\n      <td>AMO214LNFCEI4</td>\n      <td>0528881469</td>\n      <td>Amazon Customer</td>\n      <td>[12, 15]</td>\n      <td>I'm a professional OTR truck driver, and I bou...</td>\n      <td>1.0</td>\n      <td>Very Disappointed</td>\n      <td>1290643200</td>\n      <td>11 25, 2010</td>\n    </tr>\n    <tr>\n      <th>2</th>\n      <td>A3N7T0DY83Y4IG</td>\n      <td>0528881469</td>\n      <td>C. A. Freeman</td>\n      <td>[43, 45]</td>\n      <td>Well, what can I say.  I've had this unit in m...</td>\n      <td>3.0</td>\n      <td>1st impression</td>\n      <td>1283990400</td>\n      <td>09 9, 2010</td>\n    </tr>\n    <tr>\n      <th>3</th>\n      <td>A1H8PY3QHMQQA0</td>\n      <td>0528881469</td>\n      <td>Dave M. Shaw \"mack dave\"</td>\n      <td>[9, 10]</td>\n      <td>Not going to write a long review, even thought...</td>\n      <td>2.0</td>\n      <td>Great grafics, POOR GPS</td>\n      <td>1290556800</td>\n      <td>11 24, 2010</td>\n    </tr>\n    <tr>\n      <th>4</th>\n      <td>A24EV6RXELQZ63</td>\n      <td>0528881469</td>\n      <td>Wayne Smith</td>\n      <td>[0, 0]</td>\n      <td>I've had mine for a year and here's what we go...</td>\n      <td>1.0</td>\n      <td>Major issues, only excuses for support</td>\n      <td>1317254400</td>\n      <td>09 29, 2011</td>\n    </tr>\n    <tr>\n      <th>...</th>\n      <td>...</td>\n      <td>...</td>\n      <td>...</td>\n      <td>...</td>\n      <td>...</td>\n      <td>...</td>\n      <td>...</td>\n      <td>...</td>\n      <td>...</td>\n    </tr>\n    <tr>\n      <th>1689183</th>\n      <td>A34BZM6S9L7QI4</td>\n      <td>B00LGQ6HL8</td>\n      <td>Candy Cane \"Is it just me?\"</td>\n      <td>[1, 1]</td>\n      <td>Burned these in before listening to them for a...</td>\n      <td>5.0</td>\n      <td>Boom -- Pop -- Pow.  These deliver.</td>\n      <td>1405555200</td>\n      <td>07 17, 2014</td>\n    </tr>\n    <tr>\n      <th>1689184</th>\n      <td>A1G650TTTHEAL5</td>\n      <td>B00LGQ6HL8</td>\n      <td>Charles Spanky \"Zumina Reviews\"</td>\n      <td>[0, 0]</td>\n      <td>Some people like DJ style headphones or earbud...</td>\n      <td>5.0</td>\n      <td>Thin and light, without compromising on sound ...</td>\n      <td>1405382400</td>\n      <td>07 15, 2014</td>\n    </tr>\n    <tr>\n      <th>1689185</th>\n      <td>A25C2M3QF9G7OQ</td>\n      <td>B00LGQ6HL8</td>\n      <td>Comdet</td>\n      <td>[0, 0]</td>\n      <td>I&amp;#8217;m a big fan of the Brainwavz S1 (actua...</td>\n      <td>5.0</td>\n      <td>Same form factor and durability as the S1 with...</td>\n      <td>1405555200</td>\n      <td>07 17, 2014</td>\n    </tr>\n    <tr>\n      <th>1689186</th>\n      <td>A1E1LEVQ9VQNK</td>\n      <td>B00LGQ6HL8</td>\n      <td>J. Chambers</td>\n      <td>[0, 0]</td>\n      <td>I've used theBrainwavz S1 In Ear Headphones, a...</td>\n      <td>5.0</td>\n      <td>Superb audio quality in a very comfortable set...</td>\n      <td>1405641600</td>\n      <td>07 18, 2014</td>\n    </tr>\n    <tr>\n      <th>1689187</th>\n      <td>A2NYK9KWFMJV4Y</td>\n      <td>B00LGQ6HL8</td>\n      <td>Mike Tarrani \"Jazz Drummer\"</td>\n      <td>[0, 0]</td>\n      <td>Normally when I receive a review sample I can ...</td>\n      <td>5.0</td>\n      <td>Exceptional sound</td>\n      <td>1405209600</td>\n      <td>07 13, 2014</td>\n    </tr>\n  </tbody>\n</table>\n<p>1689188 rows × 9 columns</p>\n</div>"
     },
     "execution_count": 72,
     "metadata": {},
     "output_type": "execute_result"
    }
   ],
   "source": [
    "review_df = convert_to_pandas_df(\"raw_data/Electronics_5.json\")\n",
    "review_df"
   ],
   "metadata": {
    "collapsed": false,
    "ExecuteTime": {
     "end_time": "2023-09-16T12:22:33.463721900Z",
     "start_time": "2023-09-16T12:21:34.436254500Z"
    }
   }
  },
  {
   "cell_type": "code",
   "execution_count": 73,
   "outputs": [
    {
     "data": {
      "text/plain": "              asin                                              imUrl  \\\n4       0528881469  http://ecx.images-amazon.com/images/I/51FnRkJq...   \n15      0594451647  http://ecx.images-amazon.com/images/I/51RjSETO...   \n20      0594481813  http://ecx.images-amazon.com/images/I/41K7ymN5...   \n38      0972683275  http://ecx.images-amazon.com/images/I/41hYJ9Mw...   \n53      1400532620  http://ecx.images-amazon.com/images/I/519ca3cu...   \n...            ...                                                ...   \n497900  B00L2442H0  http://ecx.images-amazon.com/images/I/51NFBdDZ...   \n497904  B00L26YDA4  http://ecx.images-amazon.com/images/I/41061q4C...   \n497905  B00L21HC7A  http://ecx.images-amazon.com/images/I/513kT0it...   \n497926  B00L3YHF6O  http://ecx.images-amazon.com/images/I/41SBx7QY...   \n498163  B00LGQ6HL8  http://ecx.images-amazon.com/images/I/41%2BcVY...   \n\n                                              description  \\\n4       Like its award-winning predecessor, the Intell...   \n15      HDTV Adapter Kit for NOOK HD and NOOK HD+\\nThi...   \n20      Power up your device with this Barnes &amp; No...   \n38      The VideoSecu TV mount is a mounting solution ...   \n53      Barnes & Noble Nook eReader - no 3GMeet nook. ...   \n...                                                   ...   \n497900  Description:Add up to 4 peripherals quickly an...   \n497904  Description:The Sabrent Wifi Receiver lets you...   \n497905  Description:The Sabrent CR-CCU3 3-Slot Card Re...   \n497926  Mind-Shattering Performance, Precision-Tuned F...   \n498163  The Brainwavz S5 are dynamic driver based earp...   \n\n                                               categories  \\\n4       [[Electronics, GPS & Navigation, Vehicle GPS, ...   \n15      [[Electronics, Computers & Accessories, Touch ...   \n20      [[Electronics, eBook Readers & Accessories, Po...   \n38      [[Electronics, Accessories & Supplies, Audio &...   \n53           [[Electronics, eBook Readers & Accessories]]   \n...                                                   ...   \n497900  [[Electronics, Computers & Accessories, Networ...   \n497904  [[Electronics, Car & Vehicle Electronics, Vehi...   \n497905  [[Electronics, Computers & Accessories, Cables...   \n497926  [[Electronics, Home Audio, Stereo Components, ...   \n498163  [[Electronics, Accessories & Supplies, Audio &...   \n\n                                                    title   price  \\\n4       Rand McNally 528881469 7-inch Intelliroute TND...  299.99   \n15      Barnes &amp; Noble HDTV Adapter Kit for NOOK H...   49.95   \n20       Barnes &amp; Noble OV/HB-ADP Universal Power Kit   19.65   \n38      VideoSecu 24&quot; Long Arm TV Wall Mount Low ...   29.99   \n53                Barnes &amp; Noble Nook eReader - no 3G   74.95   \n...                                                   ...     ...   \n497900  Sabrent 4 Port Portable USB 2.0 Hub (9.5&quot;...    5.99   \n497904  Sabrent Wifi Audio Receiver (Supports DLNA and...   35.99   \n497905  Sabrent USB 3.0 SuperSpeed 3 slot Memory Card ...   14.99   \n497926  NEW! Creative Sound Blaster Roar: Portable NFC...  149.99   \n498163                     Brainwavz S5 In Ear Headphones   99.50   \n\n                                  salesRank  \\\n4                                       NaN   \n15                                      NaN   \n20                                      NaN   \n38                                       {}   \n53                   {'Electronics': 23071}   \n...                                     ...   \n497900                {'Electronics': 1383}   \n497904  {'Cell Phones & Accessories': 6139}   \n497905                                   {}   \n497926   {'Cell Phones & Accessories': 131}   \n498163                                  NaN   \n\n                                                  related               brand  \n4       {'also_viewed': ['B006ZOI9OY', 'B00C7FKT2A', '...                 NaN  \n15      {'also_bought': ['B009L7EEZA', 'B00AGAYQEU', '...                 NaN  \n20      {'also_bought': ['B00AAKLIIS', 'B00A668GUO', '...  Barnes &amp; Noble  \n38      {'also_bought': ['B000X3KOD2', 'B0074FGR74', '...           VideoSecu  \n53      {'also_bought': ['B0035CLBT4', 'B004X18N24', '...  Barnes &amp; Noble  \n...                                                   ...                 ...  \n497900  {'also_bought': ['B00IRV2DL8', 'B00GU8OIYA', '...             Sabrent  \n497904  {'also_bought': ['B00KB5QEYK', 'B00L2JQ8AE', '...             Sabrent  \n497905  {'also_viewed': ['B00GAKX34E', 'B00L2442H0', '...             Sabrent  \n497926  {'also_bought': ['B00LBNW2TC', 'B00L8I6SFY', '...                 NaN  \n498163  {'also_viewed': ['B00G4V0QSK', 'B00G4UQ6U8', '...                 NaN  \n\n[63001 rows x 9 columns]",
      "text/html": "<div>\n<style scoped>\n    .dataframe tbody tr th:only-of-type {\n        vertical-align: middle;\n    }\n\n    .dataframe tbody tr th {\n        vertical-align: top;\n    }\n\n    .dataframe thead th {\n        text-align: right;\n    }\n</style>\n<table border=\"1\" class=\"dataframe\">\n  <thead>\n    <tr style=\"text-align: right;\">\n      <th></th>\n      <th>asin</th>\n      <th>imUrl</th>\n      <th>description</th>\n      <th>categories</th>\n      <th>title</th>\n      <th>price</th>\n      <th>salesRank</th>\n      <th>related</th>\n      <th>brand</th>\n    </tr>\n  </thead>\n  <tbody>\n    <tr>\n      <th>4</th>\n      <td>0528881469</td>\n      <td>http://ecx.images-amazon.com/images/I/51FnRkJq...</td>\n      <td>Like its award-winning predecessor, the Intell...</td>\n      <td>[[Electronics, GPS &amp; Navigation, Vehicle GPS, ...</td>\n      <td>Rand McNally 528881469 7-inch Intelliroute TND...</td>\n      <td>299.99</td>\n      <td>NaN</td>\n      <td>{'also_viewed': ['B006ZOI9OY', 'B00C7FKT2A', '...</td>\n      <td>NaN</td>\n    </tr>\n    <tr>\n      <th>15</th>\n      <td>0594451647</td>\n      <td>http://ecx.images-amazon.com/images/I/51RjSETO...</td>\n      <td>HDTV Adapter Kit for NOOK HD and NOOK HD+\\nThi...</td>\n      <td>[[Electronics, Computers &amp; Accessories, Touch ...</td>\n      <td>Barnes &amp;amp; Noble HDTV Adapter Kit for NOOK H...</td>\n      <td>49.95</td>\n      <td>NaN</td>\n      <td>{'also_bought': ['B009L7EEZA', 'B00AGAYQEU', '...</td>\n      <td>NaN</td>\n    </tr>\n    <tr>\n      <th>20</th>\n      <td>0594481813</td>\n      <td>http://ecx.images-amazon.com/images/I/41K7ymN5...</td>\n      <td>Power up your device with this Barnes &amp;amp; No...</td>\n      <td>[[Electronics, eBook Readers &amp; Accessories, Po...</td>\n      <td>Barnes &amp;amp; Noble OV/HB-ADP Universal Power Kit</td>\n      <td>19.65</td>\n      <td>NaN</td>\n      <td>{'also_bought': ['B00AAKLIIS', 'B00A668GUO', '...</td>\n      <td>Barnes &amp;amp; Noble</td>\n    </tr>\n    <tr>\n      <th>38</th>\n      <td>0972683275</td>\n      <td>http://ecx.images-amazon.com/images/I/41hYJ9Mw...</td>\n      <td>The VideoSecu TV mount is a mounting solution ...</td>\n      <td>[[Electronics, Accessories &amp; Supplies, Audio &amp;...</td>\n      <td>VideoSecu 24&amp;quot; Long Arm TV Wall Mount Low ...</td>\n      <td>29.99</td>\n      <td>{}</td>\n      <td>{'also_bought': ['B000X3KOD2', 'B0074FGR74', '...</td>\n      <td>VideoSecu</td>\n    </tr>\n    <tr>\n      <th>53</th>\n      <td>1400532620</td>\n      <td>http://ecx.images-amazon.com/images/I/519ca3cu...</td>\n      <td>Barnes &amp; Noble Nook eReader - no 3GMeet nook. ...</td>\n      <td>[[Electronics, eBook Readers &amp; Accessories]]</td>\n      <td>Barnes &amp;amp; Noble Nook eReader - no 3G</td>\n      <td>74.95</td>\n      <td>{'Electronics': 23071}</td>\n      <td>{'also_bought': ['B0035CLBT4', 'B004X18N24', '...</td>\n      <td>Barnes &amp;amp; Noble</td>\n    </tr>\n    <tr>\n      <th>...</th>\n      <td>...</td>\n      <td>...</td>\n      <td>...</td>\n      <td>...</td>\n      <td>...</td>\n      <td>...</td>\n      <td>...</td>\n      <td>...</td>\n      <td>...</td>\n    </tr>\n    <tr>\n      <th>497900</th>\n      <td>B00L2442H0</td>\n      <td>http://ecx.images-amazon.com/images/I/51NFBdDZ...</td>\n      <td>Description:Add up to 4 peripherals quickly an...</td>\n      <td>[[Electronics, Computers &amp; Accessories, Networ...</td>\n      <td>Sabrent 4 Port Portable USB 2.0 Hub (9.5&amp;quot;...</td>\n      <td>5.99</td>\n      <td>{'Electronics': 1383}</td>\n      <td>{'also_bought': ['B00IRV2DL8', 'B00GU8OIYA', '...</td>\n      <td>Sabrent</td>\n    </tr>\n    <tr>\n      <th>497904</th>\n      <td>B00L26YDA4</td>\n      <td>http://ecx.images-amazon.com/images/I/41061q4C...</td>\n      <td>Description:The Sabrent Wifi Receiver lets you...</td>\n      <td>[[Electronics, Car &amp; Vehicle Electronics, Vehi...</td>\n      <td>Sabrent Wifi Audio Receiver (Supports DLNA and...</td>\n      <td>35.99</td>\n      <td>{'Cell Phones &amp; Accessories': 6139}</td>\n      <td>{'also_bought': ['B00KB5QEYK', 'B00L2JQ8AE', '...</td>\n      <td>Sabrent</td>\n    </tr>\n    <tr>\n      <th>497905</th>\n      <td>B00L21HC7A</td>\n      <td>http://ecx.images-amazon.com/images/I/513kT0it...</td>\n      <td>Description:The Sabrent CR-CCU3 3-Slot Card Re...</td>\n      <td>[[Electronics, Computers &amp; Accessories, Cables...</td>\n      <td>Sabrent USB 3.0 SuperSpeed 3 slot Memory Card ...</td>\n      <td>14.99</td>\n      <td>{}</td>\n      <td>{'also_viewed': ['B00GAKX34E', 'B00L2442H0', '...</td>\n      <td>Sabrent</td>\n    </tr>\n    <tr>\n      <th>497926</th>\n      <td>B00L3YHF6O</td>\n      <td>http://ecx.images-amazon.com/images/I/41SBx7QY...</td>\n      <td>Mind-Shattering Performance, Precision-Tuned F...</td>\n      <td>[[Electronics, Home Audio, Stereo Components, ...</td>\n      <td>NEW! Creative Sound Blaster Roar: Portable NFC...</td>\n      <td>149.99</td>\n      <td>{'Cell Phones &amp; Accessories': 131}</td>\n      <td>{'also_bought': ['B00LBNW2TC', 'B00L8I6SFY', '...</td>\n      <td>NaN</td>\n    </tr>\n    <tr>\n      <th>498163</th>\n      <td>B00LGQ6HL8</td>\n      <td>http://ecx.images-amazon.com/images/I/41%2BcVY...</td>\n      <td>The Brainwavz S5 are dynamic driver based earp...</td>\n      <td>[[Electronics, Accessories &amp; Supplies, Audio &amp;...</td>\n      <td>Brainwavz S5 In Ear Headphones</td>\n      <td>99.50</td>\n      <td>NaN</td>\n      <td>{'also_viewed': ['B00G4V0QSK', 'B00G4UQ6U8', '...</td>\n      <td>NaN</td>\n    </tr>\n  </tbody>\n</table>\n<p>63001 rows × 9 columns</p>\n</div>"
     },
     "execution_count": 73,
     "metadata": {},
     "output_type": "execute_result"
    }
   ],
   "source": [
    "meta_df = meta_df[meta_df.asin.isin(review_df.asin.unique())]\n",
    "meta_df"
   ],
   "metadata": {
    "collapsed": false,
    "ExecuteTime": {
     "end_time": "2023-09-16T12:22:33.581389Z",
     "start_time": "2023-09-16T12:22:33.463721900Z"
    }
   }
  },
  {
   "cell_type": "code",
   "execution_count": 74,
   "outputs": [
    {
     "data": {
      "text/plain": "             reviewerID        asin                     reviewerName  \\\n0         AO94DHGC771SJ  0528881469                          amazdnu   \n1         AMO214LNFCEI4  0528881469                  Amazon Customer   \n2        A3N7T0DY83Y4IG  0528881469                    C. A. Freeman   \n3        A1H8PY3QHMQQA0  0528881469         Dave M. Shaw \"mack dave\"   \n4        A24EV6RXELQZ63  0528881469                      Wayne Smith   \n...                 ...         ...                              ...   \n1689183  A34BZM6S9L7QI4  B00LGQ6HL8      Candy Cane \"Is it just me?\"   \n1689184  A1G650TTTHEAL5  B00LGQ6HL8  Charles Spanky \"Zumina Reviews\"   \n1689185  A25C2M3QF9G7OQ  B00LGQ6HL8                           Comdet   \n1689186   A1E1LEVQ9VQNK  B00LGQ6HL8                      J. Chambers   \n1689187  A2NYK9KWFMJV4Y  B00LGQ6HL8      Mike Tarrani \"Jazz Drummer\"   \n\n          helpful                                         reviewText  overall  \\\n0          [0, 0]  We got this GPS for my husband who is an (OTR)...      5.0   \n1        [12, 15]  I'm a professional OTR truck driver, and I bou...      1.0   \n2        [43, 45]  Well, what can I say.  I've had this unit in m...      3.0   \n3         [9, 10]  Not going to write a long review, even thought...      2.0   \n4          [0, 0]  I've had mine for a year and here's what we go...      1.0   \n...           ...                                                ...      ...   \n1689183    [1, 1]  Burned these in before listening to them for a...      5.0   \n1689184    [0, 0]  Some people like DJ style headphones or earbud...      5.0   \n1689185    [0, 0]  I&#8217;m a big fan of the Brainwavz S1 (actua...      5.0   \n1689186    [0, 0]  I've used theBrainwavz S1 In Ear Headphones, a...      5.0   \n1689187    [0, 0]  Normally when I receive a review sample I can ...      5.0   \n\n                                                   summary  unixReviewTime  \\\n0                                          Gotta have GPS!      1370131200   \n1                                        Very Disappointed      1290643200   \n2                                           1st impression      1283990400   \n3                                  Great grafics, POOR GPS      1290556800   \n4                   Major issues, only excuses for support      1317254400   \n...                                                    ...             ...   \n1689183                Boom -- Pop -- Pow.  These deliver.      1405555200   \n1689184  Thin and light, without compromising on sound ...      1405382400   \n1689185  Same form factor and durability as the S1 with...      1405555200   \n1689186  Superb audio quality in a very comfortable set...      1405641600   \n1689187                                  Exceptional sound      1405209600   \n\n          reviewTime  \n0         06 2, 2013  \n1        11 25, 2010  \n2         09 9, 2010  \n3        11 24, 2010  \n4        09 29, 2011  \n...              ...  \n1689183  07 17, 2014  \n1689184  07 15, 2014  \n1689185  07 17, 2014  \n1689186  07 18, 2014  \n1689187  07 13, 2014  \n\n[1689188 rows x 9 columns]",
      "text/html": "<div>\n<style scoped>\n    .dataframe tbody tr th:only-of-type {\n        vertical-align: middle;\n    }\n\n    .dataframe tbody tr th {\n        vertical-align: top;\n    }\n\n    .dataframe thead th {\n        text-align: right;\n    }\n</style>\n<table border=\"1\" class=\"dataframe\">\n  <thead>\n    <tr style=\"text-align: right;\">\n      <th></th>\n      <th>reviewerID</th>\n      <th>asin</th>\n      <th>reviewerName</th>\n      <th>helpful</th>\n      <th>reviewText</th>\n      <th>overall</th>\n      <th>summary</th>\n      <th>unixReviewTime</th>\n      <th>reviewTime</th>\n    </tr>\n  </thead>\n  <tbody>\n    <tr>\n      <th>0</th>\n      <td>AO94DHGC771SJ</td>\n      <td>0528881469</td>\n      <td>amazdnu</td>\n      <td>[0, 0]</td>\n      <td>We got this GPS for my husband who is an (OTR)...</td>\n      <td>5.0</td>\n      <td>Gotta have GPS!</td>\n      <td>1370131200</td>\n      <td>06 2, 2013</td>\n    </tr>\n    <tr>\n      <th>1</th>\n      <td>AMO214LNFCEI4</td>\n      <td>0528881469</td>\n      <td>Amazon Customer</td>\n      <td>[12, 15]</td>\n      <td>I'm a professional OTR truck driver, and I bou...</td>\n      <td>1.0</td>\n      <td>Very Disappointed</td>\n      <td>1290643200</td>\n      <td>11 25, 2010</td>\n    </tr>\n    <tr>\n      <th>2</th>\n      <td>A3N7T0DY83Y4IG</td>\n      <td>0528881469</td>\n      <td>C. A. Freeman</td>\n      <td>[43, 45]</td>\n      <td>Well, what can I say.  I've had this unit in m...</td>\n      <td>3.0</td>\n      <td>1st impression</td>\n      <td>1283990400</td>\n      <td>09 9, 2010</td>\n    </tr>\n    <tr>\n      <th>3</th>\n      <td>A1H8PY3QHMQQA0</td>\n      <td>0528881469</td>\n      <td>Dave M. Shaw \"mack dave\"</td>\n      <td>[9, 10]</td>\n      <td>Not going to write a long review, even thought...</td>\n      <td>2.0</td>\n      <td>Great grafics, POOR GPS</td>\n      <td>1290556800</td>\n      <td>11 24, 2010</td>\n    </tr>\n    <tr>\n      <th>4</th>\n      <td>A24EV6RXELQZ63</td>\n      <td>0528881469</td>\n      <td>Wayne Smith</td>\n      <td>[0, 0]</td>\n      <td>I've had mine for a year and here's what we go...</td>\n      <td>1.0</td>\n      <td>Major issues, only excuses for support</td>\n      <td>1317254400</td>\n      <td>09 29, 2011</td>\n    </tr>\n    <tr>\n      <th>...</th>\n      <td>...</td>\n      <td>...</td>\n      <td>...</td>\n      <td>...</td>\n      <td>...</td>\n      <td>...</td>\n      <td>...</td>\n      <td>...</td>\n      <td>...</td>\n    </tr>\n    <tr>\n      <th>1689183</th>\n      <td>A34BZM6S9L7QI4</td>\n      <td>B00LGQ6HL8</td>\n      <td>Candy Cane \"Is it just me?\"</td>\n      <td>[1, 1]</td>\n      <td>Burned these in before listening to them for a...</td>\n      <td>5.0</td>\n      <td>Boom -- Pop -- Pow.  These deliver.</td>\n      <td>1405555200</td>\n      <td>07 17, 2014</td>\n    </tr>\n    <tr>\n      <th>1689184</th>\n      <td>A1G650TTTHEAL5</td>\n      <td>B00LGQ6HL8</td>\n      <td>Charles Spanky \"Zumina Reviews\"</td>\n      <td>[0, 0]</td>\n      <td>Some people like DJ style headphones or earbud...</td>\n      <td>5.0</td>\n      <td>Thin and light, without compromising on sound ...</td>\n      <td>1405382400</td>\n      <td>07 15, 2014</td>\n    </tr>\n    <tr>\n      <th>1689185</th>\n      <td>A25C2M3QF9G7OQ</td>\n      <td>B00LGQ6HL8</td>\n      <td>Comdet</td>\n      <td>[0, 0]</td>\n      <td>I&amp;#8217;m a big fan of the Brainwavz S1 (actua...</td>\n      <td>5.0</td>\n      <td>Same form factor and durability as the S1 with...</td>\n      <td>1405555200</td>\n      <td>07 17, 2014</td>\n    </tr>\n    <tr>\n      <th>1689186</th>\n      <td>A1E1LEVQ9VQNK</td>\n      <td>B00LGQ6HL8</td>\n      <td>J. Chambers</td>\n      <td>[0, 0]</td>\n      <td>I've used theBrainwavz S1 In Ear Headphones, a...</td>\n      <td>5.0</td>\n      <td>Superb audio quality in a very comfortable set...</td>\n      <td>1405641600</td>\n      <td>07 18, 2014</td>\n    </tr>\n    <tr>\n      <th>1689187</th>\n      <td>A2NYK9KWFMJV4Y</td>\n      <td>B00LGQ6HL8</td>\n      <td>Mike Tarrani \"Jazz Drummer\"</td>\n      <td>[0, 0]</td>\n      <td>Normally when I receive a review sample I can ...</td>\n      <td>5.0</td>\n      <td>Exceptional sound</td>\n      <td>1405209600</td>\n      <td>07 13, 2014</td>\n    </tr>\n  </tbody>\n</table>\n<p>1689188 rows × 9 columns</p>\n</div>"
     },
     "execution_count": 74,
     "metadata": {},
     "output_type": "execute_result"
    }
   ],
   "source": [
    "review_df[review_df.asin.isin(meta_df.asin.unique())]"
   ],
   "metadata": {
    "collapsed": false,
    "ExecuteTime": {
     "end_time": "2023-09-16T12:22:33.723826Z",
     "start_time": "2023-09-16T12:22:33.579395300Z"
    }
   }
  },
  {
   "cell_type": "markdown",
   "source": [
    "## 2. Re-map IDs"
   ],
   "metadata": {
    "collapsed": false
   }
  },
  {
   "cell_type": "code",
   "execution_count": 75,
   "outputs": [],
   "source": [
    "def mapping_fn(data_df: pd.DataFrame, column_name: str):\n",
    "    keys = data_df[column_name].unique().tolist()\n",
    "    mp = dict(zip(keys, range(len(keys))))\n",
    "    data_df[column_name] = data_df[column_name].map(lambda x: mp[x])\n",
    "    return keys, mp"
   ],
   "metadata": {
    "collapsed": false,
    "ExecuteTime": {
     "end_time": "2023-09-16T12:22:33.725629100Z",
     "start_time": "2023-09-16T12:22:33.725127500Z"
    }
   }
  },
  {
   "cell_type": "code",
   "execution_count": 76,
   "outputs": [
    {
     "name": "stderr",
     "output_type": "stream",
     "text": [
      "C:\\Users\\admin\\AppData\\Local\\Temp\\ipykernel_4124\\1392691737.py:4: SettingWithCopyWarning: \n",
      "A value is trying to be set on a copy of a slice from a DataFrame.\n",
      "Try using .loc[row_indexer,col_indexer] = value instead\n",
      "\n",
      "See the caveats in the documentation: https://pandas.pydata.org/pandas-docs/stable/user_guide/indexing.html#returning-a-view-versus-a-copy\n",
      "  data_df[column_name] = data_df[column_name].map(lambda x: mp[x])\n",
      "C:\\Users\\admin\\AppData\\Local\\Temp\\ipykernel_4124\\1226354981.py:3: SettingWithCopyWarning: \n",
      "A value is trying to be set on a copy of a slice from a DataFrame.\n",
      "Try using .loc[row_indexer,col_indexer] = value instead\n",
      "\n",
      "See the caveats in the documentation: https://pandas.pydata.org/pandas-docs/stable/user_guide/indexing.html#returning-a-view-versus-a-copy\n",
      "  meta_df[\"categories\"] = meta_df[\"categories\"].map(lambda x: x[-1][-1])\n"
     ]
    },
    {
     "data": {
      "text/plain": "         asin                                              imUrl  \\\n4           0  http://ecx.images-amazon.com/images/I/51FnRkJq...   \n15          1  http://ecx.images-amazon.com/images/I/51RjSETO...   \n20          2  http://ecx.images-amazon.com/images/I/41K7ymN5...   \n38          3  http://ecx.images-amazon.com/images/I/41hYJ9Mw...   \n53          4  http://ecx.images-amazon.com/images/I/519ca3cu...   \n...       ...                                                ...   \n497900  62996  http://ecx.images-amazon.com/images/I/51NFBdDZ...   \n497904  62997  http://ecx.images-amazon.com/images/I/41061q4C...   \n497905  62998  http://ecx.images-amazon.com/images/I/513kT0it...   \n497926  62999  http://ecx.images-amazon.com/images/I/41SBx7QY...   \n498163  63000  http://ecx.images-amazon.com/images/I/41%2BcVY...   \n\n                                              description  categories  \\\n4       Like its award-winning predecessor, the Intell...           0   \n15      HDTV Adapter Kit for NOOK HD and NOOK HD+\\nThi...           1   \n20      Power up your device with this Barnes &amp; No...           2   \n38      The VideoSecu TV mount is a mounting solution ...           3   \n53      Barnes & Noble Nook eReader - no 3GMeet nook. ...           4   \n...                                                   ...         ...   \n497900  Description:Add up to 4 peripherals quickly an...          69   \n497904  Description:The Sabrent Wifi Receiver lets you...         538   \n497905  Description:The Sabrent CR-CCU3 3-Slot Card Re...          58   \n497926  Mind-Shattering Performance, Precision-Tuned F...          55   \n498163  The Brainwavz S5 are dynamic driver based earp...          27   \n\n                                                    title   price  \\\n4       Rand McNally 528881469 7-inch Intelliroute TND...  299.99   \n15      Barnes &amp; Noble HDTV Adapter Kit for NOOK H...   49.95   \n20       Barnes &amp; Noble OV/HB-ADP Universal Power Kit   19.65   \n38      VideoSecu 24&quot; Long Arm TV Wall Mount Low ...   29.99   \n53                Barnes &amp; Noble Nook eReader - no 3G   74.95   \n...                                                   ...     ...   \n497900  Sabrent 4 Port Portable USB 2.0 Hub (9.5&quot;...    5.99   \n497904  Sabrent Wifi Audio Receiver (Supports DLNA and...   35.99   \n497905  Sabrent USB 3.0 SuperSpeed 3 slot Memory Card ...   14.99   \n497926  NEW! Creative Sound Blaster Roar: Portable NFC...  149.99   \n498163                     Brainwavz S5 In Ear Headphones   99.50   \n\n                                  salesRank  \\\n4                                       NaN   \n15                                      NaN   \n20                                      NaN   \n38                                       {}   \n53                   {'Electronics': 23071}   \n...                                     ...   \n497900                {'Electronics': 1383}   \n497904  {'Cell Phones & Accessories': 6139}   \n497905                                   {}   \n497926   {'Cell Phones & Accessories': 131}   \n498163                                  NaN   \n\n                                                  related               brand  \n4       {'also_viewed': ['B006ZOI9OY', 'B00C7FKT2A', '...                 NaN  \n15      {'also_bought': ['B009L7EEZA', 'B00AGAYQEU', '...                 NaN  \n20      {'also_bought': ['B00AAKLIIS', 'B00A668GUO', '...  Barnes &amp; Noble  \n38      {'also_bought': ['B000X3KOD2', 'B0074FGR74', '...           VideoSecu  \n53      {'also_bought': ['B0035CLBT4', 'B004X18N24', '...  Barnes &amp; Noble  \n...                                                   ...                 ...  \n497900  {'also_bought': ['B00IRV2DL8', 'B00GU8OIYA', '...             Sabrent  \n497904  {'also_bought': ['B00KB5QEYK', 'B00L2JQ8AE', '...             Sabrent  \n497905  {'also_viewed': ['B00GAKX34E', 'B00L2442H0', '...             Sabrent  \n497926  {'also_bought': ['B00LBNW2TC', 'B00L8I6SFY', '...                 NaN  \n498163  {'also_viewed': ['B00G4V0QSK', 'B00G4UQ6U8', '...                 NaN  \n\n[63001 rows x 9 columns]",
      "text/html": "<div>\n<style scoped>\n    .dataframe tbody tr th:only-of-type {\n        vertical-align: middle;\n    }\n\n    .dataframe tbody tr th {\n        vertical-align: top;\n    }\n\n    .dataframe thead th {\n        text-align: right;\n    }\n</style>\n<table border=\"1\" class=\"dataframe\">\n  <thead>\n    <tr style=\"text-align: right;\">\n      <th></th>\n      <th>asin</th>\n      <th>imUrl</th>\n      <th>description</th>\n      <th>categories</th>\n      <th>title</th>\n      <th>price</th>\n      <th>salesRank</th>\n      <th>related</th>\n      <th>brand</th>\n    </tr>\n  </thead>\n  <tbody>\n    <tr>\n      <th>4</th>\n      <td>0</td>\n      <td>http://ecx.images-amazon.com/images/I/51FnRkJq...</td>\n      <td>Like its award-winning predecessor, the Intell...</td>\n      <td>0</td>\n      <td>Rand McNally 528881469 7-inch Intelliroute TND...</td>\n      <td>299.99</td>\n      <td>NaN</td>\n      <td>{'also_viewed': ['B006ZOI9OY', 'B00C7FKT2A', '...</td>\n      <td>NaN</td>\n    </tr>\n    <tr>\n      <th>15</th>\n      <td>1</td>\n      <td>http://ecx.images-amazon.com/images/I/51RjSETO...</td>\n      <td>HDTV Adapter Kit for NOOK HD and NOOK HD+\\nThi...</td>\n      <td>1</td>\n      <td>Barnes &amp;amp; Noble HDTV Adapter Kit for NOOK H...</td>\n      <td>49.95</td>\n      <td>NaN</td>\n      <td>{'also_bought': ['B009L7EEZA', 'B00AGAYQEU', '...</td>\n      <td>NaN</td>\n    </tr>\n    <tr>\n      <th>20</th>\n      <td>2</td>\n      <td>http://ecx.images-amazon.com/images/I/41K7ymN5...</td>\n      <td>Power up your device with this Barnes &amp;amp; No...</td>\n      <td>2</td>\n      <td>Barnes &amp;amp; Noble OV/HB-ADP Universal Power Kit</td>\n      <td>19.65</td>\n      <td>NaN</td>\n      <td>{'also_bought': ['B00AAKLIIS', 'B00A668GUO', '...</td>\n      <td>Barnes &amp;amp; Noble</td>\n    </tr>\n    <tr>\n      <th>38</th>\n      <td>3</td>\n      <td>http://ecx.images-amazon.com/images/I/41hYJ9Mw...</td>\n      <td>The VideoSecu TV mount is a mounting solution ...</td>\n      <td>3</td>\n      <td>VideoSecu 24&amp;quot; Long Arm TV Wall Mount Low ...</td>\n      <td>29.99</td>\n      <td>{}</td>\n      <td>{'also_bought': ['B000X3KOD2', 'B0074FGR74', '...</td>\n      <td>VideoSecu</td>\n    </tr>\n    <tr>\n      <th>53</th>\n      <td>4</td>\n      <td>http://ecx.images-amazon.com/images/I/519ca3cu...</td>\n      <td>Barnes &amp; Noble Nook eReader - no 3GMeet nook. ...</td>\n      <td>4</td>\n      <td>Barnes &amp;amp; Noble Nook eReader - no 3G</td>\n      <td>74.95</td>\n      <td>{'Electronics': 23071}</td>\n      <td>{'also_bought': ['B0035CLBT4', 'B004X18N24', '...</td>\n      <td>Barnes &amp;amp; Noble</td>\n    </tr>\n    <tr>\n      <th>...</th>\n      <td>...</td>\n      <td>...</td>\n      <td>...</td>\n      <td>...</td>\n      <td>...</td>\n      <td>...</td>\n      <td>...</td>\n      <td>...</td>\n      <td>...</td>\n    </tr>\n    <tr>\n      <th>497900</th>\n      <td>62996</td>\n      <td>http://ecx.images-amazon.com/images/I/51NFBdDZ...</td>\n      <td>Description:Add up to 4 peripherals quickly an...</td>\n      <td>69</td>\n      <td>Sabrent 4 Port Portable USB 2.0 Hub (9.5&amp;quot;...</td>\n      <td>5.99</td>\n      <td>{'Electronics': 1383}</td>\n      <td>{'also_bought': ['B00IRV2DL8', 'B00GU8OIYA', '...</td>\n      <td>Sabrent</td>\n    </tr>\n    <tr>\n      <th>497904</th>\n      <td>62997</td>\n      <td>http://ecx.images-amazon.com/images/I/41061q4C...</td>\n      <td>Description:The Sabrent Wifi Receiver lets you...</td>\n      <td>538</td>\n      <td>Sabrent Wifi Audio Receiver (Supports DLNA and...</td>\n      <td>35.99</td>\n      <td>{'Cell Phones &amp; Accessories': 6139}</td>\n      <td>{'also_bought': ['B00KB5QEYK', 'B00L2JQ8AE', '...</td>\n      <td>Sabrent</td>\n    </tr>\n    <tr>\n      <th>497905</th>\n      <td>62998</td>\n      <td>http://ecx.images-amazon.com/images/I/513kT0it...</td>\n      <td>Description:The Sabrent CR-CCU3 3-Slot Card Re...</td>\n      <td>58</td>\n      <td>Sabrent USB 3.0 SuperSpeed 3 slot Memory Card ...</td>\n      <td>14.99</td>\n      <td>{}</td>\n      <td>{'also_viewed': ['B00GAKX34E', 'B00L2442H0', '...</td>\n      <td>Sabrent</td>\n    </tr>\n    <tr>\n      <th>497926</th>\n      <td>62999</td>\n      <td>http://ecx.images-amazon.com/images/I/41SBx7QY...</td>\n      <td>Mind-Shattering Performance, Precision-Tuned F...</td>\n      <td>55</td>\n      <td>NEW! Creative Sound Blaster Roar: Portable NFC...</td>\n      <td>149.99</td>\n      <td>{'Cell Phones &amp; Accessories': 131}</td>\n      <td>{'also_bought': ['B00LBNW2TC', 'B00L8I6SFY', '...</td>\n      <td>NaN</td>\n    </tr>\n    <tr>\n      <th>498163</th>\n      <td>63000</td>\n      <td>http://ecx.images-amazon.com/images/I/41%2BcVY...</td>\n      <td>The Brainwavz S5 are dynamic driver based earp...</td>\n      <td>27</td>\n      <td>Brainwavz S5 In Ear Headphones</td>\n      <td>99.50</td>\n      <td>NaN</td>\n      <td>{'also_viewed': ['B00G4V0QSK', 'B00G4UQ6U8', '...</td>\n      <td>NaN</td>\n    </tr>\n  </tbody>\n</table>\n<p>63001 rows × 9 columns</p>\n</div>"
     },
     "execution_count": 76,
     "metadata": {},
     "output_type": "execute_result"
    }
   ],
   "source": [
    "materials, material_map = mapping_fn(meta_df, \"asin\")\n",
    "\n",
    "meta_df[\"categories\"] = meta_df[\"categories\"].map(lambda x: x[-1][-1])\n",
    "categories, category_map = mapping_fn(meta_df, \"categories\")\n",
    "meta_df"
   ],
   "metadata": {
    "collapsed": false,
    "ExecuteTime": {
     "end_time": "2023-09-16T12:22:33.806150700Z",
     "start_time": "2023-09-16T12:22:33.726630500Z"
    }
   }
  },
  {
   "cell_type": "code",
   "execution_count": 77,
   "outputs": [
    {
     "data": {
      "text/plain": "         reviewerID   asin  unixReviewTime  categories\n0                 0      0      1370131200           0\n1                 1      0      1290643200           0\n2                 2      0      1283990400           0\n3                 3      0      1290556800           0\n4                 4      0      1317254400           0\n...             ...    ...             ...         ...\n1689183      114990  63000      1405555200          27\n1689184       92852  63000      1405382400          27\n1689185       10163  63000      1405555200          27\n1689186       36698  63000      1405641600          27\n1689187        1615  63000      1405209600          27\n\n[1689188 rows x 4 columns]",
      "text/html": "<div>\n<style scoped>\n    .dataframe tbody tr th:only-of-type {\n        vertical-align: middle;\n    }\n\n    .dataframe tbody tr th {\n        vertical-align: top;\n    }\n\n    .dataframe thead th {\n        text-align: right;\n    }\n</style>\n<table border=\"1\" class=\"dataframe\">\n  <thead>\n    <tr style=\"text-align: right;\">\n      <th></th>\n      <th>reviewerID</th>\n      <th>asin</th>\n      <th>unixReviewTime</th>\n      <th>categories</th>\n    </tr>\n  </thead>\n  <tbody>\n    <tr>\n      <th>0</th>\n      <td>0</td>\n      <td>0</td>\n      <td>1370131200</td>\n      <td>0</td>\n    </tr>\n    <tr>\n      <th>1</th>\n      <td>1</td>\n      <td>0</td>\n      <td>1290643200</td>\n      <td>0</td>\n    </tr>\n    <tr>\n      <th>2</th>\n      <td>2</td>\n      <td>0</td>\n      <td>1283990400</td>\n      <td>0</td>\n    </tr>\n    <tr>\n      <th>3</th>\n      <td>3</td>\n      <td>0</td>\n      <td>1290556800</td>\n      <td>0</td>\n    </tr>\n    <tr>\n      <th>4</th>\n      <td>4</td>\n      <td>0</td>\n      <td>1317254400</td>\n      <td>0</td>\n    </tr>\n    <tr>\n      <th>...</th>\n      <td>...</td>\n      <td>...</td>\n      <td>...</td>\n      <td>...</td>\n    </tr>\n    <tr>\n      <th>1689183</th>\n      <td>114990</td>\n      <td>63000</td>\n      <td>1405555200</td>\n      <td>27</td>\n    </tr>\n    <tr>\n      <th>1689184</th>\n      <td>92852</td>\n      <td>63000</td>\n      <td>1405382400</td>\n      <td>27</td>\n    </tr>\n    <tr>\n      <th>1689185</th>\n      <td>10163</td>\n      <td>63000</td>\n      <td>1405555200</td>\n      <td>27</td>\n    </tr>\n    <tr>\n      <th>1689186</th>\n      <td>36698</td>\n      <td>63000</td>\n      <td>1405641600</td>\n      <td>27</td>\n    </tr>\n    <tr>\n      <th>1689187</th>\n      <td>1615</td>\n      <td>63000</td>\n      <td>1405209600</td>\n      <td>27</td>\n    </tr>\n  </tbody>\n</table>\n<p>1689188 rows × 4 columns</p>\n</div>"
     },
     "execution_count": 77,
     "metadata": {},
     "output_type": "execute_result"
    }
   ],
   "source": [
    "users, user_map = mapping_fn(review_df, \"reviewerID\")\n",
    "review_df[\"asin\"] = review_df[\"asin\"].map(lambda x: material_map[x])\n",
    "\n",
    "review_df = review_df[[\"reviewerID\", \"asin\", \"unixReviewTime\"]].merge(meta_df[[\"asin\", \"categories\"]], on=[\"asin\"])\n",
    "review_df"
   ],
   "metadata": {
    "collapsed": false,
    "ExecuteTime": {
     "end_time": "2023-09-16T12:22:34.849826700Z",
     "start_time": "2023-09-16T12:22:33.914784400Z"
    }
   }
  },
  {
   "cell_type": "code",
   "execution_count": 78,
   "outputs": [
    {
     "data": {
      "text/plain": "         reviewerID   asin  unixReviewTime  categories\n1450204           0  53113      1353456000          11\n377374            0  15267      1366156800         273\n856723            0  32410      1366156800          20\n0                 0      0      1370131200           0\n535992            0  21098      1375920000         437\n...             ...    ...             ...         ...\n1671048      192402  61842      1400630400         465\n1665019      192402  61512      1400716800         399\n1683485      192402  62602      1403395200         465\n1688645      192402  62959      1403740800          22\n1689051      192402  62991      1403740800          22\n\n[1689188 rows x 4 columns]",
      "text/html": "<div>\n<style scoped>\n    .dataframe tbody tr th:only-of-type {\n        vertical-align: middle;\n    }\n\n    .dataframe tbody tr th {\n        vertical-align: top;\n    }\n\n    .dataframe thead th {\n        text-align: right;\n    }\n</style>\n<table border=\"1\" class=\"dataframe\">\n  <thead>\n    <tr style=\"text-align: right;\">\n      <th></th>\n      <th>reviewerID</th>\n      <th>asin</th>\n      <th>unixReviewTime</th>\n      <th>categories</th>\n    </tr>\n  </thead>\n  <tbody>\n    <tr>\n      <th>1450204</th>\n      <td>0</td>\n      <td>53113</td>\n      <td>1353456000</td>\n      <td>11</td>\n    </tr>\n    <tr>\n      <th>377374</th>\n      <td>0</td>\n      <td>15267</td>\n      <td>1366156800</td>\n      <td>273</td>\n    </tr>\n    <tr>\n      <th>856723</th>\n      <td>0</td>\n      <td>32410</td>\n      <td>1366156800</td>\n      <td>20</td>\n    </tr>\n    <tr>\n      <th>0</th>\n      <td>0</td>\n      <td>0</td>\n      <td>1370131200</td>\n      <td>0</td>\n    </tr>\n    <tr>\n      <th>535992</th>\n      <td>0</td>\n      <td>21098</td>\n      <td>1375920000</td>\n      <td>437</td>\n    </tr>\n    <tr>\n      <th>...</th>\n      <td>...</td>\n      <td>...</td>\n      <td>...</td>\n      <td>...</td>\n    </tr>\n    <tr>\n      <th>1671048</th>\n      <td>192402</td>\n      <td>61842</td>\n      <td>1400630400</td>\n      <td>465</td>\n    </tr>\n    <tr>\n      <th>1665019</th>\n      <td>192402</td>\n      <td>61512</td>\n      <td>1400716800</td>\n      <td>399</td>\n    </tr>\n    <tr>\n      <th>1683485</th>\n      <td>192402</td>\n      <td>62602</td>\n      <td>1403395200</td>\n      <td>465</td>\n    </tr>\n    <tr>\n      <th>1688645</th>\n      <td>192402</td>\n      <td>62959</td>\n      <td>1403740800</td>\n      <td>22</td>\n    </tr>\n    <tr>\n      <th>1689051</th>\n      <td>192402</td>\n      <td>62991</td>\n      <td>1403740800</td>\n      <td>22</td>\n    </tr>\n  </tbody>\n</table>\n<p>1689188 rows × 4 columns</p>\n</div>"
     },
     "execution_count": 78,
     "metadata": {},
     "output_type": "execute_result"
    }
   ],
   "source": [
    "review_df = review_df.sort_values([\"reviewerID\", \"unixReviewTime\"], ascending=True)\n",
    "review_df"
   ],
   "metadata": {
    "collapsed": false,
    "ExecuteTime": {
     "end_time": "2023-09-16T12:22:35.191994Z",
     "start_time": "2023-09-16T12:22:34.850826700Z"
    }
   }
  },
  {
   "cell_type": "code",
   "execution_count": 79,
   "outputs": [
    {
     "data": {
      "text/plain": "        reviewerID                                               asin  \\\n0                0      [53113, 15267, 32410, 0, 21098, 46884, 59952]   \n1                1                    [0, 31018, 19632, 47326, 59903]   \n2                2  [7301, 26151, 27607, 34697, 0, 25067, 30574, 5...   \n3                3  [23241, 26504, 0, 27548, 43426, 39895, 1412, 1...   \n4                4                    [0, 14836, 26886, 30652, 21877]   \n...            ...                                                ...   \n192398      192398  [60807, 60819, 60821, 60820, 61101, 61111, 61761]   \n192399      192399         [60820, 60831, 61101, 60807, 60819, 60821]   \n192400      192400         [60807, 60819, 60821, 60820, 61101, 61111]   \n192401      192401         [62967, 61485, 61512, 62602, 61842, 62961]   \n192402      192402                [61842, 61512, 62602, 62959, 62991]   \n\n                                               categories  \n0                           [11, 273, 20, 0, 437, 74, 44]  \n1                                       [0, 2, 7, 11, 11]  \n2       [43, 14, 480, 511, 0, 133, 239, 344, 606, 729,...  \n3       [27, 88, 0, 93, 27, 75, 121, 145, 27, 152, 145...  \n4                                   [0, 134, 88, 23, 168]  \n...                                                   ...  \n192398                   [11, 11, 585, 455, 211, 11, 185]  \n192399                       [455, 455, 211, 11, 11, 585]  \n192400                        [11, 11, 585, 455, 211, 11]  \n192401                      [241, 50, 399, 465, 465, 182]  \n192402                            [465, 399, 465, 22, 22]  \n\n[192403 rows x 3 columns]",
      "text/html": "<div>\n<style scoped>\n    .dataframe tbody tr th:only-of-type {\n        vertical-align: middle;\n    }\n\n    .dataframe tbody tr th {\n        vertical-align: top;\n    }\n\n    .dataframe thead th {\n        text-align: right;\n    }\n</style>\n<table border=\"1\" class=\"dataframe\">\n  <thead>\n    <tr style=\"text-align: right;\">\n      <th></th>\n      <th>reviewerID</th>\n      <th>asin</th>\n      <th>categories</th>\n    </tr>\n  </thead>\n  <tbody>\n    <tr>\n      <th>0</th>\n      <td>0</td>\n      <td>[53113, 15267, 32410, 0, 21098, 46884, 59952]</td>\n      <td>[11, 273, 20, 0, 437, 74, 44]</td>\n    </tr>\n    <tr>\n      <th>1</th>\n      <td>1</td>\n      <td>[0, 31018, 19632, 47326, 59903]</td>\n      <td>[0, 2, 7, 11, 11]</td>\n    </tr>\n    <tr>\n      <th>2</th>\n      <td>2</td>\n      <td>[7301, 26151, 27607, 34697, 0, 25067, 30574, 5...</td>\n      <td>[43, 14, 480, 511, 0, 133, 239, 344, 606, 729,...</td>\n    </tr>\n    <tr>\n      <th>3</th>\n      <td>3</td>\n      <td>[23241, 26504, 0, 27548, 43426, 39895, 1412, 1...</td>\n      <td>[27, 88, 0, 93, 27, 75, 121, 145, 27, 152, 145...</td>\n    </tr>\n    <tr>\n      <th>4</th>\n      <td>4</td>\n      <td>[0, 14836, 26886, 30652, 21877]</td>\n      <td>[0, 134, 88, 23, 168]</td>\n    </tr>\n    <tr>\n      <th>...</th>\n      <td>...</td>\n      <td>...</td>\n      <td>...</td>\n    </tr>\n    <tr>\n      <th>192398</th>\n      <td>192398</td>\n      <td>[60807, 60819, 60821, 60820, 61101, 61111, 61761]</td>\n      <td>[11, 11, 585, 455, 211, 11, 185]</td>\n    </tr>\n    <tr>\n      <th>192399</th>\n      <td>192399</td>\n      <td>[60820, 60831, 61101, 60807, 60819, 60821]</td>\n      <td>[455, 455, 211, 11, 11, 585]</td>\n    </tr>\n    <tr>\n      <th>192400</th>\n      <td>192400</td>\n      <td>[60807, 60819, 60821, 60820, 61101, 61111]</td>\n      <td>[11, 11, 585, 455, 211, 11]</td>\n    </tr>\n    <tr>\n      <th>192401</th>\n      <td>192401</td>\n      <td>[62967, 61485, 61512, 62602, 61842, 62961]</td>\n      <td>[241, 50, 399, 465, 465, 182]</td>\n    </tr>\n    <tr>\n      <th>192402</th>\n      <td>192402</td>\n      <td>[61842, 61512, 62602, 62959, 62991]</td>\n      <td>[465, 399, 465, 22, 22]</td>\n    </tr>\n  </tbody>\n</table>\n<p>192403 rows × 3 columns</p>\n</div>"
     },
     "execution_count": 79,
     "metadata": {},
     "output_type": "execute_result"
    }
   ],
   "source": [
    "final_df = review_df.groupby(\"reviewerID\").agg(list).reset_index()[[\"reviewerID\", \"asin\", \"categories\"]]\n",
    "final_df"
   ],
   "metadata": {
    "collapsed": false,
    "ExecuteTime": {
     "end_time": "2023-09-16T12:22:39.298464100Z",
     "start_time": "2023-09-16T12:22:35.191994Z"
    }
   }
  },
  {
   "cell_type": "markdown",
   "source": [
    "## 3. Build Train and Test Data"
   ],
   "metadata": {
    "collapsed": false
   }
  },
  {
   "cell_type": "code",
   "execution_count": 80,
   "outputs": [],
   "source": [
    "import random\n",
    "\n",
    "num_users, num_materials, num_categories = len(users), len(materials), len(categories)\n",
    "\n",
    "def generate_samples(reviewerID,\n",
    "                     historical_materials,\n",
    "                     historical_categories):\n",
    "    historical_item_count = len(historical_materials)\n",
    "    train_data, test_data = [], []\n",
    "\n",
    "    def gen_neg():\n",
    "        neg = historical_materials[0]\n",
    "        while neg in historical_materials:\n",
    "            neg = random.randint(0, num_materials - 1)\n",
    "        return neg\n",
    "\n",
    "    for i in range(1, historical_item_count):\n",
    "        data = train_data if i != (historical_item_count - 1) else test_data\n",
    "        data.append({\n",
    "            \"uid\": reviewerID,\n",
    "            \"mid\": historical_materials[i],\n",
    "            \"cat\": historical_categories[i],\n",
    "            \"historical_mid\": historical_materials[:i],\n",
    "            \"historical_cat\": historical_categories[:i],\n",
    "            \"label\": 1\n",
    "        })\n",
    "        data.append({\n",
    "            \"uid\": reviewerID,\n",
    "            \"mid\": gen_neg(),\n",
    "            \"cat\": historical_categories[i],\n",
    "            \"historical_mid\": historical_materials[:i],\n",
    "            \"historical_cat\": historical_categories[:i],\n",
    "            \"label\": 0\n",
    "        })\n",
    "\n",
    "    return train_data, test_data"
   ],
   "metadata": {
    "collapsed": false,
    "ExecuteTime": {
     "end_time": "2023-09-16T12:22:39.301945400Z",
     "start_time": "2023-09-16T12:22:39.300943800Z"
    }
   }
  },
  {
   "cell_type": "code",
   "execution_count": 81,
   "outputs": [],
   "source": [
    "train_data_list, test_data_list = [], []\n",
    "\n",
    "for reviewerID, historical_materials, historical_categories in final_df.itertuples(index=False):\n",
    "   train_data, test_data = generate_samples(reviewerID, historical_materials, historical_categories)\n",
    "   train_data_list.extend(train_data)\n",
    "   test_data_list.extend(test_data)\n",
    "\n",
    "train_df = pd.DataFrame.from_dict(train_data_list)\n",
    "test_df = pd.DataFrame.from_dict(test_data_list)"
   ],
   "metadata": {
    "collapsed": false,
    "ExecuteTime": {
     "end_time": "2023-09-16T12:22:51.825411600Z",
     "start_time": "2023-09-16T12:22:39.302947Z"
    }
   }
  },
  {
   "cell_type": "code",
   "execution_count": 82,
   "outputs": [
    {
     "data": {
      "text/plain": "            uid    mid  cat         historical_mid   historical_cat  label\n0             0  15267  273                [53113]             [11]      1\n1             0  28425  273                [53113]             [11]      0\n2             0  32410   20         [53113, 15267]        [11, 273]      1\n3             0  41571   20         [53113, 15267]        [11, 273]      0\n4             0      0    0  [53113, 15267, 32410]    [11, 273, 20]      1\n...         ...    ...  ...                    ...              ...    ...\n2608759  192402  59678  399                [61842]            [465]      0\n2608760  192402  62602  465         [61842, 61512]       [465, 399]      1\n2608761  192402  21383  465         [61842, 61512]       [465, 399]      0\n2608762  192402  62959   22  [61842, 61512, 62602]  [465, 399, 465]      1\n2608763  192402  20963   22  [61842, 61512, 62602]  [465, 399, 465]      0\n\n[2608764 rows x 6 columns]",
      "text/html": "<div>\n<style scoped>\n    .dataframe tbody tr th:only-of-type {\n        vertical-align: middle;\n    }\n\n    .dataframe tbody tr th {\n        vertical-align: top;\n    }\n\n    .dataframe thead th {\n        text-align: right;\n    }\n</style>\n<table border=\"1\" class=\"dataframe\">\n  <thead>\n    <tr style=\"text-align: right;\">\n      <th></th>\n      <th>uid</th>\n      <th>mid</th>\n      <th>cat</th>\n      <th>historical_mid</th>\n      <th>historical_cat</th>\n      <th>label</th>\n    </tr>\n  </thead>\n  <tbody>\n    <tr>\n      <th>0</th>\n      <td>0</td>\n      <td>15267</td>\n      <td>273</td>\n      <td>[53113]</td>\n      <td>[11]</td>\n      <td>1</td>\n    </tr>\n    <tr>\n      <th>1</th>\n      <td>0</td>\n      <td>28425</td>\n      <td>273</td>\n      <td>[53113]</td>\n      <td>[11]</td>\n      <td>0</td>\n    </tr>\n    <tr>\n      <th>2</th>\n      <td>0</td>\n      <td>32410</td>\n      <td>20</td>\n      <td>[53113, 15267]</td>\n      <td>[11, 273]</td>\n      <td>1</td>\n    </tr>\n    <tr>\n      <th>3</th>\n      <td>0</td>\n      <td>41571</td>\n      <td>20</td>\n      <td>[53113, 15267]</td>\n      <td>[11, 273]</td>\n      <td>0</td>\n    </tr>\n    <tr>\n      <th>4</th>\n      <td>0</td>\n      <td>0</td>\n      <td>0</td>\n      <td>[53113, 15267, 32410]</td>\n      <td>[11, 273, 20]</td>\n      <td>1</td>\n    </tr>\n    <tr>\n      <th>...</th>\n      <td>...</td>\n      <td>...</td>\n      <td>...</td>\n      <td>...</td>\n      <td>...</td>\n      <td>...</td>\n    </tr>\n    <tr>\n      <th>2608759</th>\n      <td>192402</td>\n      <td>59678</td>\n      <td>399</td>\n      <td>[61842]</td>\n      <td>[465]</td>\n      <td>0</td>\n    </tr>\n    <tr>\n      <th>2608760</th>\n      <td>192402</td>\n      <td>62602</td>\n      <td>465</td>\n      <td>[61842, 61512]</td>\n      <td>[465, 399]</td>\n      <td>1</td>\n    </tr>\n    <tr>\n      <th>2608761</th>\n      <td>192402</td>\n      <td>21383</td>\n      <td>465</td>\n      <td>[61842, 61512]</td>\n      <td>[465, 399]</td>\n      <td>0</td>\n    </tr>\n    <tr>\n      <th>2608762</th>\n      <td>192402</td>\n      <td>62959</td>\n      <td>22</td>\n      <td>[61842, 61512, 62602]</td>\n      <td>[465, 399, 465]</td>\n      <td>1</td>\n    </tr>\n    <tr>\n      <th>2608763</th>\n      <td>192402</td>\n      <td>20963</td>\n      <td>22</td>\n      <td>[61842, 61512, 62602]</td>\n      <td>[465, 399, 465]</td>\n      <td>0</td>\n    </tr>\n  </tbody>\n</table>\n<p>2608764 rows × 6 columns</p>\n</div>"
     },
     "execution_count": 82,
     "metadata": {},
     "output_type": "execute_result"
    }
   ],
   "source": [
    "train_df"
   ],
   "metadata": {
    "collapsed": false,
    "ExecuteTime": {
     "end_time": "2023-09-16T12:22:51.830856700Z",
     "start_time": "2023-09-16T12:22:51.830354900Z"
    }
   }
  },
  {
   "cell_type": "code",
   "execution_count": 83,
   "outputs": [
    {
     "data": {
      "text/plain": "           uid    mid  cat                                     historical_mid  \\\n0            0  59952   44             [53113, 15267, 32410, 0, 21098, 46884]   \n1            0  42086   44             [53113, 15267, 32410, 0, 21098, 46884]   \n2            1  59903   11                           [0, 31018, 19632, 47326]   \n3            1  38363   11                           [0, 31018, 19632, 47326]   \n4            2  61947    1  [7301, 26151, 27607, 34697, 0, 25067, 30574, 5...   \n...        ...    ...  ...                                                ...   \n384801  192400  51507   11                [60807, 60819, 60821, 60820, 61101]   \n384802  192401  62961  182                [62967, 61485, 61512, 62602, 61842]   \n384803  192401  55770  182                [62967, 61485, 61512, 62602, 61842]   \n384804  192402  62991   22                       [61842, 61512, 62602, 62959]   \n384805  192402  18947   22                       [61842, 61512, 62602, 62959]   \n\n                                           historical_cat  label  \n0                               [11, 273, 20, 0, 437, 74]      1  \n1                               [11, 273, 20, 0, 437, 74]      0  \n2                                           [0, 2, 7, 11]      1  \n3                                           [0, 2, 7, 11]      0  \n4       [43, 14, 480, 511, 0, 133, 239, 344, 606, 729,...      1  \n...                                                   ...    ...  \n384801                            [11, 11, 585, 455, 211]      0  \n384802                           [241, 50, 399, 465, 465]      1  \n384803                           [241, 50, 399, 465, 465]      0  \n384804                                [465, 399, 465, 22]      1  \n384805                                [465, 399, 465, 22]      0  \n\n[384806 rows x 6 columns]",
      "text/html": "<div>\n<style scoped>\n    .dataframe tbody tr th:only-of-type {\n        vertical-align: middle;\n    }\n\n    .dataframe tbody tr th {\n        vertical-align: top;\n    }\n\n    .dataframe thead th {\n        text-align: right;\n    }\n</style>\n<table border=\"1\" class=\"dataframe\">\n  <thead>\n    <tr style=\"text-align: right;\">\n      <th></th>\n      <th>uid</th>\n      <th>mid</th>\n      <th>cat</th>\n      <th>historical_mid</th>\n      <th>historical_cat</th>\n      <th>label</th>\n    </tr>\n  </thead>\n  <tbody>\n    <tr>\n      <th>0</th>\n      <td>0</td>\n      <td>59952</td>\n      <td>44</td>\n      <td>[53113, 15267, 32410, 0, 21098, 46884]</td>\n      <td>[11, 273, 20, 0, 437, 74]</td>\n      <td>1</td>\n    </tr>\n    <tr>\n      <th>1</th>\n      <td>0</td>\n      <td>42086</td>\n      <td>44</td>\n      <td>[53113, 15267, 32410, 0, 21098, 46884]</td>\n      <td>[11, 273, 20, 0, 437, 74]</td>\n      <td>0</td>\n    </tr>\n    <tr>\n      <th>2</th>\n      <td>1</td>\n      <td>59903</td>\n      <td>11</td>\n      <td>[0, 31018, 19632, 47326]</td>\n      <td>[0, 2, 7, 11]</td>\n      <td>1</td>\n    </tr>\n    <tr>\n      <th>3</th>\n      <td>1</td>\n      <td>38363</td>\n      <td>11</td>\n      <td>[0, 31018, 19632, 47326]</td>\n      <td>[0, 2, 7, 11]</td>\n      <td>0</td>\n    </tr>\n    <tr>\n      <th>4</th>\n      <td>2</td>\n      <td>61947</td>\n      <td>1</td>\n      <td>[7301, 26151, 27607, 34697, 0, 25067, 30574, 5...</td>\n      <td>[43, 14, 480, 511, 0, 133, 239, 344, 606, 729,...</td>\n      <td>1</td>\n    </tr>\n    <tr>\n      <th>...</th>\n      <td>...</td>\n      <td>...</td>\n      <td>...</td>\n      <td>...</td>\n      <td>...</td>\n      <td>...</td>\n    </tr>\n    <tr>\n      <th>384801</th>\n      <td>192400</td>\n      <td>51507</td>\n      <td>11</td>\n      <td>[60807, 60819, 60821, 60820, 61101]</td>\n      <td>[11, 11, 585, 455, 211]</td>\n      <td>0</td>\n    </tr>\n    <tr>\n      <th>384802</th>\n      <td>192401</td>\n      <td>62961</td>\n      <td>182</td>\n      <td>[62967, 61485, 61512, 62602, 61842]</td>\n      <td>[241, 50, 399, 465, 465]</td>\n      <td>1</td>\n    </tr>\n    <tr>\n      <th>384803</th>\n      <td>192401</td>\n      <td>55770</td>\n      <td>182</td>\n      <td>[62967, 61485, 61512, 62602, 61842]</td>\n      <td>[241, 50, 399, 465, 465]</td>\n      <td>0</td>\n    </tr>\n    <tr>\n      <th>384804</th>\n      <td>192402</td>\n      <td>62991</td>\n      <td>22</td>\n      <td>[61842, 61512, 62602, 62959]</td>\n      <td>[465, 399, 465, 22]</td>\n      <td>1</td>\n    </tr>\n    <tr>\n      <th>384805</th>\n      <td>192402</td>\n      <td>18947</td>\n      <td>22</td>\n      <td>[61842, 61512, 62602, 62959]</td>\n      <td>[465, 399, 465, 22]</td>\n      <td>0</td>\n    </tr>\n  </tbody>\n</table>\n<p>384806 rows × 6 columns</p>\n</div>"
     },
     "execution_count": 83,
     "metadata": {},
     "output_type": "execute_result"
    }
   ],
   "source": [
    "test_df"
   ],
   "metadata": {
    "collapsed": false,
    "ExecuteTime": {
     "end_time": "2023-09-16T12:22:51.841054Z",
     "start_time": "2023-09-16T12:22:51.831858700Z"
    }
   }
  },
  {
   "cell_type": "code",
   "execution_count": 84,
   "outputs": [],
   "source": [
    "train_df.sample(frac=1).to_parquet(\"data/train_data.parquet\")"
   ],
   "metadata": {
    "collapsed": false,
    "ExecuteTime": {
     "end_time": "2023-09-16T12:27:03.180970100Z",
     "start_time": "2023-09-16T12:26:57.215119400Z"
    }
   }
  },
  {
   "cell_type": "code",
   "execution_count": 85,
   "outputs": [],
   "source": [
    "test_df.sample(frac=1).to_parquet(\"data/test_data.parquet\")"
   ],
   "metadata": {
    "collapsed": false,
    "ExecuteTime": {
     "end_time": "2023-09-16T12:27:04.060795200Z",
     "start_time": "2023-09-16T12:27:03.181970200Z"
    }
   }
  },
  {
   "cell_type": "code",
   "execution_count": 87,
   "outputs": [],
   "source": [
    "train_df.sample(frac=0.001).to_parquet(\"data/dev_data.parquet\")"
   ],
   "metadata": {
    "collapsed": false,
    "ExecuteTime": {
     "end_time": "2023-09-16T13:07:16.531061400Z",
     "start_time": "2023-09-16T13:07:16.477193500Z"
    }
   }
  },
  {
   "cell_type": "code",
   "execution_count": 86,
   "outputs": [
    {
     "data": {
      "text/plain": "(192403, 63001, 801)"
     },
     "execution_count": 86,
     "metadata": {},
     "output_type": "execute_result"
    }
   ],
   "source": [
    "num_users, num_materials, num_categories"
   ],
   "metadata": {
    "collapsed": false,
    "ExecuteTime": {
     "end_time": "2023-09-16T12:58:41.322682800Z",
     "start_time": "2023-09-16T12:58:41.319682600Z"
    }
   }
  },
  {
   "cell_type": "code",
   "execution_count": null,
   "outputs": [],
   "source": [],
   "metadata": {
    "collapsed": false
   }
  }
 ],
 "metadata": {
  "kernelspec": {
   "display_name": "Python 3",
   "language": "python",
   "name": "python3"
  },
  "language_info": {
   "codemirror_mode": {
    "name": "ipython",
    "version": 2
   },
   "file_extension": ".py",
   "mimetype": "text/x-python",
   "name": "python",
   "nbconvert_exporter": "python",
   "pygments_lexer": "ipython2",
   "version": "2.7.6"
  }
 },
 "nbformat": 4,
 "nbformat_minor": 0
}
